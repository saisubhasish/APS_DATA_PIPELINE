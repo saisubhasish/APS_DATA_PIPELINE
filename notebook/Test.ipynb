{
 "cells": [
  {
   "cell_type": "code",
   "execution_count": 1,
   "metadata": {},
   "outputs": [],
   "source": [
    "class Sensor:\n",
    "    def __init__(self):\n",
    "        self.sensor1 = 3\n",
    "        self.sensor2 = 4\n",
    "\n",
    "    def to_dict(self):\n",
    "        return self.__dict__"
   ]
  },
  {
   "cell_type": "code",
   "execution_count": 2,
   "metadata": {},
   "outputs": [],
   "source": [
    "s = Sensor()"
   ]
  },
  {
   "cell_type": "code",
   "execution_count": 3,
   "metadata": {},
   "outputs": [
    {
     "data": {
      "text/plain": [
       "{'sensor1': 3, 'sensor2': 4}"
      ]
     },
     "execution_count": 3,
     "metadata": {},
     "output_type": "execute_result"
    }
   ],
   "source": [
    "s.to_dict()"
   ]
  },
  {
   "cell_type": "code",
   "execution_count": 18,
   "metadata": {},
   "outputs": [],
   "source": [
    "emp_info = {'name' : \"Sai\", 'designation' : 'DataScientist'}"
   ]
  },
  {
   "cell_type": "code",
   "execution_count": 58,
   "metadata": {},
   "outputs": [],
   "source": [
    "class Emp:\n",
    "    def __init__(self, record:dict):\n",
    "\n",
    "        for att_name, values in record.items():\n",
    "            setattr(self, att_name, values)\n",
    "\n",
    "    @classmethod\n",
    "    def get_object(cls, record):\n",
    "        return Emp(record)"
   ]
  },
  {
   "cell_type": "code",
   "execution_count": 20,
   "metadata": {},
   "outputs": [],
   "source": [
    "emp = Emp.get_object(emp_info)  ## In class method we are returning the object of Emp() class. So the constructor is getting executed."
   ]
  },
  {
   "cell_type": "code",
   "execution_count": 21,
   "metadata": {},
   "outputs": [
    {
     "data": {
      "text/plain": [
       "'Sai'"
      ]
     },
     "execution_count": 21,
     "metadata": {},
     "output_type": "execute_result"
    }
   ],
   "source": [
    "emp.name"
   ]
  },
  {
   "cell_type": "code",
   "execution_count": 23,
   "metadata": {},
   "outputs": [
    {
     "data": {
      "text/plain": [
       "'DataScientist'"
      ]
     },
     "execution_count": 23,
     "metadata": {},
     "output_type": "execute_result"
    }
   ],
   "source": [
    "emp.designation"
   ]
  },
  {
   "cell_type": "code",
   "execution_count": 25,
   "metadata": {},
   "outputs": [],
   "source": [
    "setattr(emp, 'State', \"Odisha\")"
   ]
  },
  {
   "cell_type": "code",
   "execution_count": null,
   "metadata": {},
   "outputs": [],
   "source": []
  },
  {
   "cell_type": "code",
   "execution_count": 27,
   "metadata": {},
   "outputs": [],
   "source": [
    "class ACSensor:\n",
    "    def __init__(self, temp_s, hum_s, pre_s, flow_s, vib_s):\n",
    "        self.temp_s = temp_s\n",
    "        self.hum_s = hum_s\n",
    "        self.pre_s = pre_s\n",
    "        self.flow_s = flow_s\n",
    "        self.vib_s = vib_s\n",
    "\n",
    "    def to_dict(self):\n",
    "        return self.__dict__"
   ]
  },
  {
   "cell_type": "code",
   "execution_count": 29,
   "metadata": {},
   "outputs": [],
   "source": [
    "ac_s_reading = ACSensor(temp_s=2, hum_s=5, pre_s=6, flow_s=4, vib_s=7)"
   ]
  },
  {
   "cell_type": "code",
   "execution_count": 30,
   "metadata": {},
   "outputs": [
    {
     "data": {
      "text/plain": [
       "{'temp_s': 2, 'hum_s': 5, 'pre_s': 6, 'flow_s': 4, 'vib_s': 7}"
      ]
     },
     "execution_count": 30,
     "metadata": {},
     "output_type": "execute_result"
    }
   ],
   "source": [
    "ac_s_reading.to_dict()"
   ]
  },
  {
   "cell_type": "code",
   "execution_count": null,
   "metadata": {},
   "outputs": [],
   "source": []
  },
  {
   "cell_type": "code",
   "execution_count": 45,
   "metadata": {},
   "outputs": [],
   "source": [
    "emp_info = {'name' : [\"Sai\", \"Thanmai\"], 'designation' : ['DataScientist', 'DataScientist']}   # defining dict "
   ]
  },
  {
   "cell_type": "code",
   "execution_count": 46,
   "metadata": {},
   "outputs": [],
   "source": [
    "import pandas as pd"
   ]
  },
  {
   "cell_type": "code",
   "execution_count": 48,
   "metadata": {},
   "outputs": [],
   "source": [
    "df = pd.DataFrame(emp_info)   # converting to dataframe"
   ]
  },
  {
   "cell_type": "code",
   "execution_count": 52,
   "metadata": {},
   "outputs": [
    {
     "data": {
      "text/plain": [
       "Index(['name', 'designation'], dtype='object')"
      ]
     },
     "execution_count": 52,
     "metadata": {},
     "output_type": "execute_result"
    }
   ],
   "source": [
    "columns = df.columns   # Getting columns from dataframe\n",
    "columns"
   ]
  },
  {
   "cell_type": "code",
   "execution_count": 53,
   "metadata": {},
   "outputs": [
    {
     "name": "stdout",
     "output_type": "stream",
     "text": [
      "['Sai' 'DataScientist']\n",
      "['Thanmai' 'DataScientist']\n"
     ]
    }
   ],
   "source": [
    "for data in df.values:   # Converting values from dataframe\n",
    "    print(data)"
   ]
  },
  {
   "cell_type": "code",
   "execution_count": 54,
   "metadata": {},
   "outputs": [
    {
     "data": {
      "text/plain": [
       "{'name': 'Thanmai', 'designation': 'DataScientist'}"
      ]
     },
     "execution_count": 54,
     "metadata": {},
     "output_type": "execute_result"
    }
   ],
   "source": [
    "dict(zip(columns, data))    # Converting columns, values to dict"
   ]
  },
  {
   "cell_type": "code",
   "execution_count": 57,
   "metadata": {},
   "outputs": [
    {
     "name": "stdout",
     "output_type": "stream",
     "text": [
      "{'name': 'Sai', 'designation': 'DataScientist'}\n",
      "{'name': 'Thanmai', 'designation': 'DataScientist'}\n"
     ]
    }
   ],
   "source": [
    "for data in df.values:   \n",
    "    print(dict(zip(columns, data)))    # Converting columns, values to dict for eah record"
   ]
  },
  {
   "cell_type": "code",
   "execution_count": 56,
   "metadata": {},
   "outputs": [],
   "source": [
    "class Emp:\n",
    "    def __init__(self, record:dict):\n",
    "\n",
    "        for att_name, values in record.items():\n",
    "            setattr(self, att_name, values)\n",
    "\n",
    "    @classmethod\n",
    "    def get_object(cls, record):\n",
    "        return Emp(record)"
   ]
  },
  {
   "cell_type": "code",
   "execution_count": 63,
   "metadata": {},
   "outputs": [
    {
     "name": "stdout",
     "output_type": "stream",
     "text": [
      "{'name': 'Sai', 'designation': 'DataScientist'}\n",
      "<__main__.Emp object at 0x7f7493d28f70>\n",
      "{'name': 'Sai', 'designation': 'DataScientist'}\n",
      "{'name': 'Thanmai', 'designation': 'DataScientist'}\n",
      "<__main__.Emp object at 0x7f753ba09460>\n",
      "{'name': 'Thanmai', 'designation': 'DataScientist'}\n"
     ]
    }
   ],
   "source": [
    "for data in df.values:   \n",
    "    record = dict(zip(columns, data))    # Created dictionary\n",
    "    print(record)\n",
    "    emp = Emp.get_object(record)    # Created object\n",
    "    print(emp)\n",
    "    print(emp.__dict__)     # Created dict from object"
   ]
  },
  {
   "cell_type": "code",
   "execution_count": null,
   "metadata": {},
   "outputs": [],
   "source": []
  },
  {
   "cell_type": "code",
   "execution_count": 64,
   "metadata": {},
   "outputs": [],
   "source": [
    "number: int=3"
   ]
  },
  {
   "cell_type": "code",
   "execution_count": 65,
   "metadata": {},
   "outputs": [],
   "source": [
    "class Generic:\n",
    "    pass"
   ]
  },
  {
   "cell_type": "code",
   "execution_count": 67,
   "metadata": {},
   "outputs": [],
   "source": [
    "record:Generic=None     # record variable is of class Generic having value None"
   ]
  },
  {
   "cell_type": "code",
   "execution_count": null,
   "metadata": {},
   "outputs": [],
   "source": []
  }
 ],
 "metadata": {
  "kernelspec": {
   "display_name": "Python 3.8.10 64-bit",
   "language": "python",
   "name": "python3"
  },
  "language_info": {
   "codemirror_mode": {
    "name": "ipython",
    "version": 3
   },
   "file_extension": ".py",
   "mimetype": "text/x-python",
   "name": "python",
   "nbconvert_exporter": "python",
   "pygments_lexer": "ipython3",
   "version": "3.8.10"
  },
  "orig_nbformat": 4,
  "vscode": {
   "interpreter": {
    "hash": "e7370f93d1d0cde622a1f8e1c04877d8463912d04d973331ad4851f04de6915a"
   }
  }
 },
 "nbformat": 4,
 "nbformat_minor": 2
}
